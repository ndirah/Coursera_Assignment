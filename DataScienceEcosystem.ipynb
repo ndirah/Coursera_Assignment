{
 "cells": [
  {
   "cell_type": "markdown",
   "id": "7a032118-0bf6-4569-8c5a-9d827a0dbf68",
   "metadata": {},
   "source": [
    "# Data Science Tools and Ecosystem"
   ]
  },
  {
   "cell_type": "markdown",
   "id": "0b5a948f-8665-4cd8-ae63-56c8313339e0",
   "metadata": {},
   "source": [
    "In this notebook, Data Science Tools and Ecosystem are summarized."
   ]
  },
  {
   "cell_type": "markdown",
   "id": "18987af7-0835-45e8-b142-3aa136ab6e2b",
   "metadata": {},
   "source": [
    "Some of the popular languages that Data Scientists use are:\n",
    "1. Python\n",
    "2. Julia\n",
    "3. R"
   ]
  },
  {
   "cell_type": "markdown",
   "id": "90e67c73-d165-41df-b6e6-4b2a3b8b883c",
   "metadata": {},
   "source": [
    "Some of the commonly used libraries used by Data Scientists include:\n",
    "1. Pandas\n",
    "2. Matplotlib\n",
    "3. Numpy"
   ]
  },
  {
   "cell_type": "markdown",
   "id": "9ff126b8-b423-4198-a108-038475b72344",
   "metadata": {},
   "source": [
    "|Data Science Tools|\n",
    "|------------------|\n",
    "|Jupyter Notebook|\n",
    "|Rstudio|\n",
    "|Visual Studio Code|"
   ]
  },
  {
   "cell_type": "markdown",
   "id": "d9cbc888-5085-44f9-9feb-8a5d09fe332d",
   "metadata": {},
   "source": [
    "### Below are a few examples of evaluating arithmetic expressions in Python."
   ]
  },
  {
   "cell_type": "code",
   "execution_count": 3,
   "id": "73fc0ebe-d725-4eac-8f65-5d49e4f37716",
   "metadata": {},
   "outputs": [
    {
     "data": {
      "text/plain": [
       "17"
      ]
     },
     "execution_count": 3,
     "metadata": {},
     "output_type": "execute_result"
    }
   ],
   "source": [
    "(3*4)+5\n",
    "#This a simple arithmetic expression to mutiply then add integers."
   ]
  },
  {
   "cell_type": "code",
   "execution_count": 4,
   "id": "3907c52f-9612-4c04-883e-ea78da1ae618",
   "metadata": {},
   "outputs": [
    {
     "data": {
      "text/plain": [
       "3.3333333333333335"
      ]
     },
     "execution_count": 4,
     "metadata": {},
     "output_type": "execute_result"
    }
   ],
   "source": [
    "# This will convert 200 minutes to hours by diving by 60\n",
    "200/60"
   ]
  },
  {
   "cell_type": "markdown",
   "id": "febd8186-b40b-4cd7-b0b0-66b49bcf334b",
   "metadata": {},
   "source": [
    "**Objectives:**"
   ]
  },
  {
   "cell_type": "markdown",
   "id": "00add5b3-3cd1-46cb-bf1b-2cc10f7a2595",
   "metadata": {},
   "source": [
    "- List popular languages for Data Science\n",
    "- List popular  data science tools\n",
    "- Commonly used python libraries"
   ]
  },
  {
   "cell_type": "markdown",
   "id": "2fd29202-32c9-4527-9287-925d7cb96681",
   "metadata": {},
   "source": [
    "## Author\n",
    "David Njoroge"
   ]
  },
  {
   "cell_type": "code",
   "execution_count": null,
   "id": "e3b7a9ed-fff1-4d6c-9763-45d92290f94a",
   "metadata": {},
   "outputs": [],
   "source": []
  }
 ],
 "metadata": {
  "kernelspec": {
   "display_name": "Python 3 (ipykernel)",
   "language": "python",
   "name": "python3"
  },
  "language_info": {
   "codemirror_mode": {
    "name": "ipython",
    "version": 3
   },
   "file_extension": ".py",
   "mimetype": "text/x-python",
   "name": "python",
   "nbconvert_exporter": "python",
   "pygments_lexer": "ipython3",
   "version": "3.11.8"
  }
 },
 "nbformat": 4,
 "nbformat_minor": 5
}
